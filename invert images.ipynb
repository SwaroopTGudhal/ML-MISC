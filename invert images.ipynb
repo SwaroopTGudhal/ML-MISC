{
 "cells": [
  {
   "cell_type": "code",
   "execution_count": null,
   "id": "raised-proposition",
   "metadata": {},
   "outputs": [],
   "source": [
    "# code to flip images "
   ]
  },
  {
   "cell_type": "code",
   "execution_count": 7,
   "id": "handy-legend",
   "metadata": {},
   "outputs": [],
   "source": [
    "import os\n",
    "import cv2\n",
    "\n",
    "directory = r\"C:/Users/User/Desktop/Video 4 - Swaroop - Priyabrata/images/priyabrat/Video69/\"\n",
    "new_dir = \"flipped_images/\"\n",
    "path = os.path.join(directory,new_dir)\n",
    "os.mkdir(path)\n",
    "\n",
    "for file in os.listdir(directory):\n",
    "    if file.endswith(\".jpg\"):\n",
    "        img = cv2.imread(directory + file)\n",
    "        horizontal_img = cv2.flip( img, 0 )\n",
    "# change 0 and 1 for horizontal and vertical flips required\n",
    "    #saving now\n",
    "        cv2.imwrite(os.path.join(path,(file)), horizontal_img)"
   ]
  },
  {
   "cell_type": "code",
   "execution_count": 3,
   "id": "heavy-raise",
   "metadata": {},
   "outputs": [
    {
     "data": {
      "text/plain": [
       "['frame0Video64.jpg',\n",
       " 'frame10Video64.jpg',\n",
       " 'frame11Video64.jpg',\n",
       " 'frame12Video64.jpg',\n",
       " 'frame13Video64.jpg',\n",
       " 'frame14Video64.jpg',\n",
       " 'frame15Video64.jpg',\n",
       " 'frame16Video64.jpg',\n",
       " 'frame17Video64.jpg',\n",
       " 'frame18Video64.jpg',\n",
       " 'frame19Video64.jpg',\n",
       " 'frame1Video64.jpg',\n",
       " 'frame20Video64.jpg',\n",
       " 'frame21Video64.jpg',\n",
       " 'frame22Video64.jpg',\n",
       " 'frame23Video64.jpg',\n",
       " 'frame24Video64.jpg',\n",
       " 'frame25Video64.jpg',\n",
       " 'frame26Video64.jpg',\n",
       " 'frame27Video64.jpg',\n",
       " 'frame28Video64.jpg',\n",
       " 'frame29Video64.jpg',\n",
       " 'frame2Video64.jpg',\n",
       " 'frame30Video64.jpg',\n",
       " 'frame31Video64.jpg',\n",
       " 'frame32Video64.jpg',\n",
       " 'frame33Video64.jpg',\n",
       " 'frame34Video64.jpg',\n",
       " 'frame35Video64.jpg',\n",
       " 'frame36Video64.jpg',\n",
       " 'frame37Video64.jpg',\n",
       " 'frame38Video64.jpg',\n",
       " 'frame39Video64.jpg',\n",
       " 'frame3Video64.jpg',\n",
       " 'frame40Video64.jpg',\n",
       " 'frame41Video64.jpg',\n",
       " 'frame42Video64.jpg',\n",
       " 'frame43Video64.jpg',\n",
       " 'frame44Video64.jpg',\n",
       " 'frame45Video64.jpg',\n",
       " 'frame46Video64.jpg',\n",
       " 'frame47Video64.jpg',\n",
       " 'frame48Video64.jpg',\n",
       " 'frame49Video64.jpg',\n",
       " 'frame4Video64.jpg',\n",
       " 'frame50Video64.jpg',\n",
       " 'frame51Video64.jpg',\n",
       " 'frame52Video64.jpg',\n",
       " 'frame53Video64.jpg',\n",
       " 'frame54Video64.jpg',\n",
       " 'frame55Video64.jpg',\n",
       " 'frame56Video64.jpg',\n",
       " 'frame57Video64.jpg',\n",
       " 'frame58Video64.jpg',\n",
       " 'frame59Video64.jpg',\n",
       " 'frame5Video64.jpg',\n",
       " 'frame60Video64.jpg',\n",
       " 'frame61Video64.jpg',\n",
       " 'frame62Video64.jpg',\n",
       " 'frame63Video64.jpg',\n",
       " 'frame64Video64.jpg',\n",
       " 'frame65Video64.jpg',\n",
       " 'frame66Video64.jpg',\n",
       " 'frame67Video64.jpg',\n",
       " 'frame68Video64.jpg',\n",
       " 'frame6Video64.jpg',\n",
       " 'frame7Video64.jpg',\n",
       " 'frame8Video64.jpg',\n",
       " 'frame9Video64.jpg']"
      ]
     },
     "execution_count": 3,
     "metadata": {},
     "output_type": "execute_result"
    }
   ],
   "source": [
    "os.listdir(directory)"
   ]
  },
  {
   "cell_type": "code",
   "execution_count": 25,
   "id": "confident-silly",
   "metadata": {},
   "outputs": [],
   "source": []
  },
  {
   "cell_type": "code",
   "execution_count": null,
   "id": "retained-rebound",
   "metadata": {},
   "outputs": [],
   "source": []
  },
  {
   "cell_type": "code",
   "execution_count": null,
   "id": "secure-pocket",
   "metadata": {},
   "outputs": [],
   "source": []
  },
  {
   "cell_type": "code",
   "execution_count": 21,
   "id": "burning-omega",
   "metadata": {},
   "outputs": [],
   "source": []
  },
  {
   "cell_type": "code",
   "execution_count": null,
   "id": "yellow-timber",
   "metadata": {},
   "outputs": [],
   "source": []
  }
 ],
 "metadata": {
  "kernelspec": {
   "display_name": "Python 3",
   "language": "python",
   "name": "python3"
  },
  "language_info": {
   "codemirror_mode": {
    "name": "ipython",
    "version": 3
   },
   "file_extension": ".py",
   "mimetype": "text/x-python",
   "name": "python",
   "nbconvert_exporter": "python",
   "pygments_lexer": "ipython3",
   "version": "3.6.13"
  }
 },
 "nbformat": 4,
 "nbformat_minor": 5
}
