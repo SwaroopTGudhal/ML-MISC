{
 "cells": [
  {
   "cell_type": "markdown",
   "id": "hearing-stock",
   "metadata": {},
   "source": [
    "## Below steps for converting npy to image format"
   ]
  },
  {
   "cell_type": "code",
   "execution_count": 2,
   "id": "opposite-netherlands",
   "metadata": {},
   "outputs": [],
   "source": [
    "import numpy as np\n",
    "import cv2\n",
    "import glob\n",
    "import os\n",
    "from tqdm import tqdm\n",
    "from PIL import Image"
   ]
  },
  {
   "cell_type": "code",
   "execution_count": null,
   "id": "cordless-blair",
   "metadata": {},
   "outputs": [],
   "source": []
  },
  {
   "cell_type": "code",
   "execution_count": null,
   "id": "advance-baltimore",
   "metadata": {},
   "outputs": [
    {
     "name": "stderr",
     "output_type": "stream",
     "text": [
      " 84%|████████████████████████████▌     | 3061/3642 [02:52<00:45, 12.64it/s]"
     ]
    }
   ],
   "source": [
    "for fname in tqdm(glob.glob('images/*.npy')):\n",
    "    arr = np.load(fname)\n",
    "    im = Image.fromarray(arr)\n",
    "    pngfilename = (fname).replace('.npy', '.jpg')\n",
    "    im.save(pngfilename)\n",
    "    os.remove(fname)      # if want to keep both format comment this line"
   ]
  },
  {
   "cell_type": "code",
   "execution_count": null,
   "id": "compact-memory",
   "metadata": {
    "scrolled": true
   },
   "outputs": [],
   "source": []
  },
  {
   "cell_type": "markdown",
   "id": "geographic-variety",
   "metadata": {},
   "source": [
    "## Below step for converting image format to npy"
   ]
  },
  {
   "cell_type": "code",
   "execution_count": null,
   "id": "active-casting",
   "metadata": {},
   "outputs": [],
   "source": [
    "import numpy as np\n",
    "import cv2\n",
    "import glob\n",
    "import os\n",
    "from tqdm import tqdm"
   ]
  },
  {
   "cell_type": "code",
   "execution_count": null,
   "id": "composed-trainer",
   "metadata": {},
   "outputs": [],
   "source": [
    "for fname in tqdm(glob.glob('images/*.jpg')):\n",
    "    img = cv2.imread(fname).astype('uint8')\n",
    "    img = cv2.cvtColor(img, cv2.COLOR_BGR2RGB)\n",
    "    img = cv2.resize(img, (600, 600))\n",
    "    np.save(f'images/{os.path.basename(fname).replace(\".jpg\", \".npy\")}', img)\n",
    "    os.remove(fname)     # if want to keep both format comment this line"
   ]
  },
  {
   "cell_type": "code",
   "execution_count": null,
   "id": "entitled-navigator",
   "metadata": {},
   "outputs": [],
   "source": []
  }
 ],
 "metadata": {
  "kernelspec": {
   "display_name": "Python 3",
   "language": "python",
   "name": "python3"
  },
  "language_info": {
   "codemirror_mode": {
    "name": "ipython",
    "version": 3
   },
   "file_extension": ".py",
   "mimetype": "text/x-python",
   "name": "python",
   "nbconvert_exporter": "python",
   "pygments_lexer": "ipython3",
   "version": "3.6.9"
  }
 },
 "nbformat": 4,
 "nbformat_minor": 5
}
