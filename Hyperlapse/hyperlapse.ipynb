{
 "cells": [
  {
   "cell_type": "code",
   "execution_count": 52,
   "id": "stone-guyana",
   "metadata": {},
   "outputs": [],
   "source": [
    "import cv2\n",
    "\n",
    "vidcap = cv2.VideoCapture(r\".\\original.mp4\")\n",
    "def getFrame(sec): \n",
    "    vidcap.set(cv2.CAP_PROP_POS_MSEC,sec) \n",
    "    hasFrames,image = vidcap.read() \n",
    "    if hasFrames: \n",
    "        cv2.imwrite(r\"./frames/\"+\"/%#05d.jpg\" % (sec+1), image)     # save frame as JPG file \n",
    "        #cv2.imwrite(output_loc + \"/%#05d.jpg\" % (count+1), frame)\n",
    "    return hasFrames\n",
    "sec = 0 \n",
    "frameRate = 1000/30   # it will capture image in each second(1000/fps) \n",
    "success = getFrame(sec)\n",
    "success\n",
    "while success: \n",
    "    sec = sec + frameRate \n",
    "    sec = round(sec, 2) \n",
    "    success = getFrame(sec)\n",
    "\n",
    "\n",
    "\n",
    "\n",
    "import os\n",
    "\n",
    "image_folder = (r\"./frames\")\n",
    "video_name = (r\"./hyperlapse.mp4\")\n",
    "\n",
    "images = [img for img in os.listdir(image_folder) if img.endswith(\".jpg\")]\n",
    "frame = cv2.imread(os.path.join(image_folder, images[2]))\n",
    "height, width, layers = frame.shape\n",
    "\n",
    "video = cv2.VideoWriter(video_name,0,30, (width,height))\n",
    "# in above line 30 is frame per sec(fps), we can alter it as per need\n",
    "\n",
    "for image in images:\n",
    "    video.write(cv2.imread(os.path.join(image_folder, image)))\n",
    "\n",
    "cv2.destroyAllWindows()\n",
    "video.release()\n",
    "\n",
    "\n",
    "#importing os module\n",
    "import os\n",
    "\n",
    "#providing the path of the folder\n",
    "#r = raw string literal\n",
    "folder_path = (r'E:\\Hyperlapse\\frames')\n",
    "\n",
    "#using listdir() method to list the files of the folder\n",
    "test = os.listdir(folder_path)\n",
    "\n",
    "#taking a loop to remove all the images\n",
    "#using \".png\" extension to remove only png images\n",
    "#using os.remove() method to remove the files\n",
    "\n",
    "for images in test:\n",
    "    if images.endswith(\".jpg\"):\n",
    "        os.remove(os.path.join(folder_path, images))"
   ]
  },
  {
   "cell_type": "code",
   "execution_count": null,
   "id": "lovely-chase",
   "metadata": {},
   "outputs": [],
   "source": []
  },
  {
   "cell_type": "code",
   "execution_count": null,
   "id": "shared-flavor",
   "metadata": {},
   "outputs": [],
   "source": []
  },
  {
   "cell_type": "code",
   "execution_count": 5,
   "id": "eleven-forum",
   "metadata": {},
   "outputs": [
    {
     "name": "stdout",
     "output_type": "stream",
     "text": [
      "Number of frames:  2247\n"
     ]
    }
   ],
   "source": [
    "video_length = int(vidcap.get(cv2.CAP_PROP_FRAME_COUNT)) - 1\n",
    "print (\"Number of frames: \", video_length)"
   ]
  },
  {
   "cell_type": "code",
   "execution_count": 6,
   "id": "tribal-raise",
   "metadata": {},
   "outputs": [
    {
     "name": "stdout",
     "output_type": "stream",
     "text": [
      "Frames per second using video.get(cv2.cv.CV_CAP_PROP_FPS): 29.97002997002997\n"
     ]
    }
   ],
   "source": [
    "fps = vidcap.get(cv2.CAP_PROP_FPS)\n",
    "print(\"Frames per second using video.get(cv2.cv.CV_CAP_PROP_FPS): {0}\".format(fps))"
   ]
  },
  {
   "cell_type": "code",
   "execution_count": 40,
   "id": "seeing-spanish",
   "metadata": {},
   "outputs": [
    {
     "name": "stdout",
     "output_type": "stream",
     "text": [
      "1280.0 720.0 0.0 29.97002997002997\n"
     ]
    }
   ],
   "source": [
    "import cv2\n",
    "width = vidcap.get(cv2.CAP_PROP_FRAME_WIDTH)\n",
    "height = vidcap.get(cv2.CAP_PROP_FRAME_HEIGHT)\n",
    "timestamp = vidcap.get(cv2.CAP_PROP_POS_MSEC)\n",
    "fps = vidcap.get(cv2.CAP_PROP_FPS)\n",
    "print(width,height,timestamp,fps)"
   ]
  },
  {
   "cell_type": "code",
   "execution_count": null,
   "id": "speaking-hours",
   "metadata": {},
   "outputs": [],
   "source": []
  },
  {
   "cell_type": "raw",
   "id": "competitive-disclosure",
   "metadata": {},
   "source": [
    "import cv2\n",
    "\n",
    "vidcap = cv2.VideoCapture(r\".\\original.mp4\")\n",
    "def getFrame(sec): \n",
    "    vidcap.set(cv2.CAP_PROP_POS_MSEC) \n",
    "    hasFrames,image = vidcap.read() \n",
    "    if hasFrames: \n",
    "        cv2.imwrite(r\"./frames/\"+\"/%#05d.jpg\" % (sec+1), image)     # save frame as JPG file \n",
    "        #cv2.imwrite(output_loc + \"/%#05d.jpg\" % (count+1), frame)\n",
    "    return hasFrames\n",
    "sec = 0 \n",
    "frameRate = 0.003   # it will capture image in each second \n",
    "success = getFrame(sec)\n",
    "success\n",
    "while success: \n",
    "    sec = sec + frameRate \n",
    "    #sec = round(sec, 2) \n",
    "    success = getFrame(sec)"
   ]
  },
  {
   "cell_type": "code",
   "execution_count": null,
   "id": "progressive-answer",
   "metadata": {},
   "outputs": [],
   "source": []
  }
 ],
 "metadata": {
  "kernelspec": {
   "display_name": "Python 3",
   "language": "python",
   "name": "python3"
  },
  "language_info": {
   "codemirror_mode": {
    "name": "ipython",
    "version": 3
   },
   "file_extension": ".py",
   "mimetype": "text/x-python",
   "name": "python",
   "nbconvert_exporter": "python",
   "pygments_lexer": "ipython3",
   "version": "3.6.9"
  }
 },
 "nbformat": 4,
 "nbformat_minor": 5
}
