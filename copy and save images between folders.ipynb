{
 "cells": [
  {
   "cell_type": "markdown",
   "id": "62cb85d9",
   "metadata": {},
   "source": [
    "# code for creating folders with successive numbers\n",
    "#### convert to code cell type to use\n",
    "\n",
    "original_path = \"C:/Users/User/Desktop/Helmet finalized/\"\n",
    "for i in range(11,60):\n",
    "    i = str(i)\n",
    "    new_folder = \"video_\"+i\n",
    "    final_path = os.path.join(original_path,new_folder)\n",
    "    os.mkdir(final_path)\n",
    "    print(\"created folder\", final_path)"
   ]
  },
  {
   "cell_type": "code",
   "execution_count": 196,
   "id": "330af1ab",
   "metadata": {},
   "outputs": [
    {
     "name": "stdout",
     "output_type": "stream",
     "text": [
      "['frame100Video59.txt', 'frame101Video59.txt', 'frame125Video59.txt', 'frame126Video59.txt', 'frame127Video59.txt', 'frame128Video59.txt', 'frame129Video59.txt', 'frame130Video59.txt', 'frame131Video59.txt', 'frame132Video59.txt', 'frame133Video59.txt', 'frame134Video59.txt', 'frame135Video59.txt', 'frame136Video59.txt', 'frame137Video59.txt', 'frame150Video59.txt', 'frame151Video59.txt', 'frame152Video59.txt', 'frame153Video59.txt', 'frame154Video59.txt', 'frame155Video59.txt', 'frame156Video59.txt', 'frame175Video59.txt', 'frame176Video59.txt', 'frame177Video59.txt', 'frame178Video59.txt', 'frame179Video59.txt', 'frame180Video59.txt', 'frame181Video59.txt', 'frame182Video59.txt', 'frame183Video59.txt', 'frame184Video59.txt', 'frame185Video59.txt', 'frame186Video59.txt', 'frame187Video59.txt', 'frame188Video59.txt', 'frame189Video59.txt', 'frame190Video59.txt', 'frame191Video59.txt', 'frame192Video59.txt', 'frame193Video59.txt', 'frame194Video59.txt', 'frame195Video59.txt', 'frame196Video59.txt', 'frame212Video59.txt', 'frame213Video59.txt', 'frame214Video59.txt', 'frame215Video59.txt', 'frame216Video59.txt', 'frame217Video59.txt', 'frame218Video59.txt', 'frame219Video59.txt', 'frame228Video59.txt', 'frame229Video59.txt', 'frame230Video59.txt', 'frame231Video59.txt', 'frame232Video59.txt', 'frame233Video59.txt', 'frame234Video59.txt', 'frame235Video59.txt', 'frame236Video59.txt', 'frame237Video59.txt', 'frame238Video59.txt', 'frame239Video59.txt', 'frame240Video59.txt', 'frame241Video59.txt', 'frame242Video59.txt', 'frame243Video59.txt', 'frame244Video59.txt', 'frame245Video59.txt', 'frame246Video59.txt', 'frame247Video59.txt', 'frame248Video59.txt', 'frame249Video59.txt', 'frame250Video59.txt', 'frame251Video59.txt', 'frame281Video59.txt', 'frame282Video59.txt', 'frame283Video59.txt', 'frame284Video59.txt', 'frame285Video59.txt', 'frame286Video59.txt', 'frame287Video59.txt', 'frame288Video59.txt', 'frame289Video59.txt', 'frame290Video59.txt', 'frame291Video59.txt', 'frame292Video59.txt', 'frame293Video59.txt', 'frame294Video59.txt', 'frame295Video59.txt', 'frame296Video59.txt', 'frame297Video59.txt', 'frame298Video59.txt', 'frame299Video59.txt', 'frame300Video59.txt', 'frame346Video59.txt', 'frame347Video59.txt', 'frame348Video59.txt', 'frame349Video59.txt', 'frame350Video59.txt', 'frame351Video59.txt', 'frame352Video59.txt', 'frame353Video59.txt', 'frame387Video59.txt', 'frame388Video59.txt', 'frame389Video59.txt', 'frame405Video59.txt', 'frame406Video59.txt', 'frame407Video59.txt', 'frame408Video59.txt', 'frame409Video59.txt', 'frame410Video59.txt', 'frame411Video59.txt', 'frame412Video59.txt', 'frame413Video59.txt', 'frame414Video59.txt', 'frame415Video59.txt', 'frame421Video59.txt', 'frame422Video59.txt', 'frame423Video59.txt', 'frame424Video59.txt', 'frame425Video59.txt', 'frame426Video59.txt', 'frame427Video59.txt', 'frame428Video59.txt', 'frame429Video59.txt', 'frame430Video59.txt', 'frame431Video59.txt', 'frame432Video59.txt', 'frame433Video59.txt', 'frame434Video59.txt', 'frame435Video59.txt', 'frame436Video59.txt', 'frame472Video59.txt', 'frame473Video59.txt', 'frame474Video59.txt', 'frame475Video59.txt', 'frame476Video59.txt', 'frame477Video59.txt', 'frame478Video59.txt', 'frame479Video59.txt', 'frame480Video59.txt', 'frame481Video59.txt', 'frame495Video59.txt', 'frame496Video59.txt', 'frame497Video59.txt', 'frame498Video59.txt', 'frame499Video59.txt', 'frame500Video59.txt', 'frame501Video59.txt', 'frame502Video59.txt', 'frame503Video59.txt', 'frame504Video59.txt', 'frame505Video59.txt', 'frame506Video59.txt', 'frame507Video59.txt', 'frame508Video59.txt', 'frame509Video59.txt', 'frame510Video59.txt', 'frame521Video59.txt', 'frame553Video59.txt', 'frame60Video59.txt', 'frame61Video59.txt', 'frame62Video59.txt', 'frame63Video59.txt', 'frame678Video59.txt', 'frame77Video59.txt', 'frame78Video59.txt', 'frame79Video59.txt', 'frame80Video59.txt', 'frame81Video59.txt', 'frame82Video59.txt', 'frame83Video59.txt', 'frame84Video59.txt', 'frame85Video59.txt', 'frame86Video59.txt', 'frame87Video59.txt', 'frame88Video59.txt', 'frame89Video59.txt', 'frame90Video59.txt', 'frame91Video59.txt', 'frame92Video59.txt', 'frame93Video59.txt', 'frame94Video59.txt', 'frame95Video59.txt', 'frame96Video59.txt', 'frame97Video59.txt', 'frame98Video59.txt', 'frame99Video59.txt']\n",
      "190\n",
      "total files in final folder should be 381\n"
     ]
    }
   ],
   "source": [
    "import os\n",
    "import cv2\n",
    "\n",
    "directory = r\"C:\\Users\\User\\Desktop\\Helmet finalized\\Video59\"\n",
    "lst=[]\n",
    "for file in os.listdir(directory):\n",
    "    if file.endswith(\".txt\"):\n",
    "        lst.append(file)\n",
    "print(lst)\n",
    "print(len(lst))\n",
    "print(\"total files in final folder should be\", (2*(len(lst))+1))"
   ]
  },
  {
   "cell_type": "code",
   "execution_count": 197,
   "id": "21eb8ea4",
   "metadata": {},
   "outputs": [],
   "source": [
    "import os\n",
    "import cv2\n",
    "import shutil\n",
    "\n",
    "directory = \"C:/Users/User/Desktop/Helmet finalized/Video59/\"\n",
    "final_path = \"C:/Users/User/Desktop/Helmet finalized/Video_59/\"\n",
    "lst=[]\n",
    "for file in os.listdir(directory):\n",
    "    if file.endswith(\".txt\"):\n",
    "        #print(file)\n",
    "        source = os.path.join(directory+file)\n",
    "        target = os.path.join((final_path),file)\n",
    "        shutil.copyfile(source, target)\n",
    "        \n",
    "        x = (file.split(\".\"))[0]\n",
    "        #print(x)\n",
    "        y = x + \".jpg\"\n",
    "        lst.append(y)\n",
    "#print(lst)\n",
    "\n",
    "for image in lst:\n",
    "    source = os.path.join(directory+image)\n",
    "    target = os.path.join((final_path),image)\n",
    "    shutil.copyfile(source, target)"
   ]
  },
  {
   "cell_type": "code",
   "execution_count": null,
   "id": "fbd564c3",
   "metadata": {},
   "outputs": [],
   "source": []
  },
  {
   "cell_type": "code",
   "execution_count": null,
   "id": "14087542",
   "metadata": {},
   "outputs": [],
   "source": []
  },
  {
   "cell_type": "code",
   "execution_count": null,
   "id": "f2616120",
   "metadata": {},
   "outputs": [],
   "source": []
  },
  {
   "cell_type": "code",
   "execution_count": null,
   "id": "eeef1768",
   "metadata": {},
   "outputs": [],
   "source": []
  }
 ],
 "metadata": {
  "kernelspec": {
   "display_name": "Python 3",
   "language": "python",
   "name": "python3"
  },
  "language_info": {
   "codemirror_mode": {
    "name": "ipython",
    "version": 3
   },
   "file_extension": ".py",
   "mimetype": "text/x-python",
   "name": "python",
   "nbconvert_exporter": "python",
   "pygments_lexer": "ipython3",
   "version": "3.6.13"
  }
 },
 "nbformat": 4,
 "nbformat_minor": 5
}
