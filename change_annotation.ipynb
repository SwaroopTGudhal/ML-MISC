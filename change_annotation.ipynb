{
 "cells": [
  {
   "cell_type": "markdown",
   "id": "ccbdd48a",
   "metadata": {},
   "source": [
    "### For annoation changes\n",
    "\n",
    "`NOTE: 1 > Change Directory accordingly.\n",
    "       \n",
    "       2 > This code will change 15 to 0 and 16 to 1 only.\n",
    "           (change the number according to needs before hand)\n",
    "           \n",
    "       3 > This code will not change any \"15\" or \"16\" in annotation values.\n",
    "       \n",
    "       4 > Assumption --with_helmet    = 0  (old value 15)\n",
    "                      --without_helmet = 1  (old value 16)"
   ]
  },
  {
   "cell_type": "code",
   "execution_count": 1,
   "id": "854c8adb",
   "metadata": {},
   "outputs": [],
   "source": [
    "# To actvate autocomplete with Tab button\n",
    "%config Completer.use_jedi = False"
   ]
  },
  {
   "cell_type": "code",
   "execution_count": 2,
   "id": "32cd9bcd",
   "metadata": {},
   "outputs": [],
   "source": [
    "# Folder where we have .txt files.\n",
    "directory = r\"C:\\Users\\User\\Desktop\\video_4\\Video_21\""
   ]
  },
  {
   "cell_type": "code",
   "execution_count": 4,
   "id": "dd68f875",
   "metadata": {},
   "outputs": [],
   "source": [
    "import os\n",
    "def listToString(s): \n",
    "    \n",
    "    # initialize an empty string\n",
    "    str1 = \" \" \n",
    "    \n",
    "    # return string  \n",
    "    return (str1.join(s))\n",
    "\n",
    "#_______________________________________________________#\n",
    "\n",
    "for file in os.listdir(directory):\n",
    "    if file.endswith(\".txt\"):\n",
    "        text_file = x = os.path.join(directory, file)\n",
    "        fin = open(text_file, \"rt\")\n",
    "        #read file contents to string\n",
    "        data = fin.readlines()\n",
    "        #replace all occurrences of the required string\n",
    "        zero = \"\"\n",
    "        one = \"\"\n",
    "        result = \"\"\n",
    "        for i in data:\n",
    "            i = (i.split(\" \"))\n",
    "            if i[0] == \"15\":\n",
    "                i[0] = \"0\"\n",
    "                zero = (listToString(i))\n",
    "                result = result + zero\n",
    "            elif i[0] == \"16\":\n",
    "                i[0] = \"1\"\n",
    "                one = (listToString(i))\n",
    "                result = result + one\n",
    "            \n",
    "        \n",
    "        fin = open(text_file, \"wt\")\n",
    "        fin.write(result)\n",
    "        fin.close()"
   ]
  },
  {
   "cell_type": "code",
   "execution_count": null,
   "id": "cf23526f",
   "metadata": {},
   "outputs": [],
   "source": []
  },
  {
   "cell_type": "code",
   "execution_count": null,
   "id": "64a1219a",
   "metadata": {},
   "outputs": [],
   "source": []
  },
  {
   "cell_type": "code",
   "execution_count": null,
   "id": "c7a06c87",
   "metadata": {},
   "outputs": [],
   "source": []
  }
 ],
 "metadata": {
  "kernelspec": {
   "display_name": "Python 3",
   "language": "python",
   "name": "python3"
  },
  "language_info": {
   "codemirror_mode": {
    "name": "ipython",
    "version": 3
   },
   "file_extension": ".py",
   "mimetype": "text/x-python",
   "name": "python",
   "nbconvert_exporter": "python",
   "pygments_lexer": "ipython3",
   "version": "3.6.13"
  }
 },
 "nbformat": 4,
 "nbformat_minor": 5
}
